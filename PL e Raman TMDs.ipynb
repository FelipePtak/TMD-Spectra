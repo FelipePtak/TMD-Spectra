{
 "cells": [
  {
   "cell_type": "code",
   "execution_count": 2,
   "metadata": {},
   "outputs": [],
   "source": [
    "import pandas as pd\n",
    "import matplotlib.pyplot as plt\n",
    "import numpy as np"
   ]
  },
  {
   "cell_type": "code",
   "execution_count": 5,
   "metadata": {},
   "outputs": [],
   "source": [
    "a_font = {'fontname': 'Arial'}"
   ]
  },
  {
   "cell_type": "markdown",
   "metadata": {},
   "source": [
    "# Raman spectra"
   ]
  },
  {
   "cell_type": "code",
   "execution_count": 6,
   "metadata": {},
   "outputs": [],
   "source": [
    "RamanMoS2 = pd.read_table('raman_mos2.txt')"
   ]
  },
  {
   "cell_type": "code",
   "execution_count": 7,
   "metadata": {},
   "outputs": [],
   "source": [
    "RamanWS2 = pd.read_table('raman_ws2.txt')"
   ]
  },
  {
   "cell_type": "code",
   "execution_count": 5,
   "metadata": {},
   "outputs": [
    {
     "data": {
      "text/html": [
       "<div>\n",
       "<style scoped>\n",
       "    .dataframe tbody tr th:only-of-type {\n",
       "        vertical-align: middle;\n",
       "    }\n",
       "\n",
       "    .dataframe tbody tr th {\n",
       "        vertical-align: top;\n",
       "    }\n",
       "\n",
       "    .dataframe thead th {\n",
       "        text-align: right;\n",
       "    }\n",
       "</style>\n",
       "<table border=\"1\" class=\"dataframe\">\n",
       "  <thead>\n",
       "    <tr style=\"text-align: right;\">\n",
       "      <th></th>\n",
       "      <th>raman_shift</th>\n",
       "      <th>intensity</th>\n",
       "    </tr>\n",
       "  </thead>\n",
       "  <tbody>\n",
       "    <tr>\n",
       "      <td>0</td>\n",
       "      <td>-18.859688</td>\n",
       "      <td>6</td>\n",
       "    </tr>\n",
       "    <tr>\n",
       "      <td>1</td>\n",
       "      <td>-17.737869</td>\n",
       "      <td>9</td>\n",
       "    </tr>\n",
       "    <tr>\n",
       "      <td>2</td>\n",
       "      <td>-16.616169</td>\n",
       "      <td>10</td>\n",
       "    </tr>\n",
       "    <tr>\n",
       "      <td>3</td>\n",
       "      <td>-15.494590</td>\n",
       "      <td>8</td>\n",
       "    </tr>\n",
       "    <tr>\n",
       "      <td>4</td>\n",
       "      <td>-14.373129</td>\n",
       "      <td>8</td>\n",
       "    </tr>\n",
       "    <tr>\n",
       "      <td>...</td>\n",
       "      <td>...</td>\n",
       "      <td>...</td>\n",
       "    </tr>\n",
       "    <tr>\n",
       "      <td>1019</td>\n",
       "      <td>1056.259200</td>\n",
       "      <td>107</td>\n",
       "    </tr>\n",
       "    <tr>\n",
       "      <td>1020</td>\n",
       "      <td>1057.250200</td>\n",
       "      <td>102</td>\n",
       "    </tr>\n",
       "    <tr>\n",
       "      <td>1021</td>\n",
       "      <td>1058.243500</td>\n",
       "      <td>106</td>\n",
       "    </tr>\n",
       "    <tr>\n",
       "      <td>1022</td>\n",
       "      <td>1059.233200</td>\n",
       "      <td>103</td>\n",
       "    </tr>\n",
       "    <tr>\n",
       "      <td>1023</td>\n",
       "      <td>1060.226400</td>\n",
       "      <td>103</td>\n",
       "    </tr>\n",
       "  </tbody>\n",
       "</table>\n",
       "<p>1024 rows × 2 columns</p>\n",
       "</div>"
      ],
      "text/plain": [
       "      raman_shift  intensity\n",
       "0      -18.859688          6\n",
       "1      -17.737869          9\n",
       "2      -16.616169         10\n",
       "3      -15.494590          8\n",
       "4      -14.373129          8\n",
       "...           ...        ...\n",
       "1019  1056.259200        107\n",
       "1020  1057.250200        102\n",
       "1021  1058.243500        106\n",
       "1022  1059.233200        103\n",
       "1023  1060.226400        103\n",
       "\n",
       "[1024 rows x 2 columns]"
      ]
     },
     "execution_count": 5,
     "metadata": {},
     "output_type": "execute_result"
    }
   ],
   "source": [
    "RamanMoS2"
   ]
  },
  {
   "cell_type": "code",
   "execution_count": 8,
   "metadata": {},
   "outputs": [
    {
     "data": {
      "text/plain": [
       "0        -18.859688\n",
       "1        -17.737869\n",
       "2        -16.616169\n",
       "3        -15.494590\n",
       "4        -14.373129\n",
       "           ...     \n",
       "1019    1056.259200\n",
       "1020    1057.250200\n",
       "1021    1058.243500\n",
       "1022    1059.233200\n",
       "1023    1060.226400\n",
       "Name: raman_shift, Length: 1024, dtype: float64"
      ]
     },
     "execution_count": 8,
     "metadata": {},
     "output_type": "execute_result"
    }
   ],
   "source": [
    "RamanMoS2.raman_shift"
   ]
  },
  {
   "cell_type": "code",
   "execution_count": 7,
   "metadata": {},
   "outputs": [
    {
     "data": {
      "text/plain": [
       "1060.2264"
      ]
     },
     "execution_count": 7,
     "metadata": {},
     "output_type": "execute_result"
    }
   ],
   "source": [
    "max(RamanMoS2.raman_shift)"
   ]
  },
  {
   "cell_type": "code",
   "execution_count": 8,
   "metadata": {},
   "outputs": [
    {
     "data": {
      "text/plain": [
       "1058.2435"
      ]
     },
     "execution_count": 8,
     "metadata": {},
     "output_type": "execute_result"
    }
   ],
   "source": [
    "max(RamanWS2.raman_shift)"
   ]
  },
  {
   "cell_type": "code",
   "execution_count": 9,
   "metadata": {},
   "outputs": [
    {
     "data": {
      "text/html": [
       "<div>\n",
       "<style scoped>\n",
       "    .dataframe tbody tr th:only-of-type {\n",
       "        vertical-align: middle;\n",
       "    }\n",
       "\n",
       "    .dataframe tbody tr th {\n",
       "        vertical-align: top;\n",
       "    }\n",
       "\n",
       "    .dataframe thead th {\n",
       "        text-align: right;\n",
       "    }\n",
       "</style>\n",
       "<table border=\"1\" class=\"dataframe\">\n",
       "  <thead>\n",
       "    <tr style=\"text-align: right;\">\n",
       "      <th></th>\n",
       "      <th>raman_shift</th>\n",
       "      <th>intensity</th>\n",
       "    </tr>\n",
       "  </thead>\n",
       "  <tbody>\n",
       "    <tr>\n",
       "      <td>0</td>\n",
       "      <td>-21.103680</td>\n",
       "      <td>194</td>\n",
       "    </tr>\n",
       "    <tr>\n",
       "      <td>1</td>\n",
       "      <td>-19.981625</td>\n",
       "      <td>195</td>\n",
       "    </tr>\n",
       "    <tr>\n",
       "      <td>2</td>\n",
       "      <td>-18.859688</td>\n",
       "      <td>197</td>\n",
       "    </tr>\n",
       "    <tr>\n",
       "      <td>3</td>\n",
       "      <td>-17.737869</td>\n",
       "      <td>197</td>\n",
       "    </tr>\n",
       "    <tr>\n",
       "      <td>4</td>\n",
       "      <td>-16.616169</td>\n",
       "      <td>196</td>\n",
       "    </tr>\n",
       "    <tr>\n",
       "      <td>...</td>\n",
       "      <td>...</td>\n",
       "      <td>...</td>\n",
       "    </tr>\n",
       "    <tr>\n",
       "      <td>1019</td>\n",
       "      <td>1054.273100</td>\n",
       "      <td>203</td>\n",
       "    </tr>\n",
       "    <tr>\n",
       "      <td>1020</td>\n",
       "      <td>1055.266800</td>\n",
       "      <td>205</td>\n",
       "    </tr>\n",
       "    <tr>\n",
       "      <td>1021</td>\n",
       "      <td>1056.259200</td>\n",
       "      <td>204</td>\n",
       "    </tr>\n",
       "    <tr>\n",
       "      <td>1022</td>\n",
       "      <td>1057.250200</td>\n",
       "      <td>206</td>\n",
       "    </tr>\n",
       "    <tr>\n",
       "      <td>1023</td>\n",
       "      <td>1058.243500</td>\n",
       "      <td>205</td>\n",
       "    </tr>\n",
       "  </tbody>\n",
       "</table>\n",
       "<p>1024 rows × 2 columns</p>\n",
       "</div>"
      ],
      "text/plain": [
       "      raman_shift  intensity\n",
       "0      -21.103680        194\n",
       "1      -19.981625        195\n",
       "2      -18.859688        197\n",
       "3      -17.737869        197\n",
       "4      -16.616169        196\n",
       "...           ...        ...\n",
       "1019  1054.273100        203\n",
       "1020  1055.266800        205\n",
       "1021  1056.259200        204\n",
       "1022  1057.250200        206\n",
       "1023  1058.243500        205\n",
       "\n",
       "[1024 rows x 2 columns]"
      ]
     },
     "execution_count": 9,
     "metadata": {},
     "output_type": "execute_result"
    }
   ],
   "source": [
    "RamanWS2"
   ]
  },
  {
   "cell_type": "code",
   "execution_count": 10,
   "metadata": {},
   "outputs": [
    {
     "data": {
      "image/png": "[encoded data removed]",
      "text/plain": [
       "<Figure size 432x288 with 2 Axes>"
      ]
     },
     "metadata": {
      "needs_background": "light"
     },
     "output_type": "display_data"
    }
   ],
   "source": [
    "fig1,(ax1, ax2) = plt.subplots(2,1, sharex=True)\n",
    "plt.xlabel('Deslocamento Raman (cm$^{-1}$)', fontsize=16)\n",
    "ax1.plot(RamanMoS2.raman_shift, RamanMoS2.intensity, 'b', label='MoS$_2$')\n",
    "ax1.set_ylim(0,8000)\n",
    "ax1.set_yticklabels(np.arange(0,10000,2000), **a_font, fontsize=12)\n",
    "ax1.legend()\n",
    "ax2.plot(RamanWS2.raman_shift, RamanWS2.intensity, 'r', label='WS$_2$')\n",
    "ax2.legend()\n",
    "ax2.set_xlim(300,600)\n",
    "ax2.set_xticklabels(np.arange(300,610,50), **a_font, fontsize=12)\n",
    "ax2.set_yticklabels(np.arange(0,1100,200), **a_font, fontsize=12)\n",
    "fig1.text(-0.05,0.55,\"Intensidade (u.a.)\", ha=\"center\", va=\"center\", rotation=90, **a_font, fontsize=16)\n",
    "plt.tight_layout()\n",
    "plt.show()"
   ]
  },
  {
   "cell_type": "code",
   "execution_count": 11,
   "metadata": {},
   "outputs": [],
   "source": [
    "fig1.savefig('Raman_both.png',dpi=300, bbox_inches='tight')"
   ]
  },
  {
   "cell_type": "code",
   "execution_count": 12,
   "metadata": {},
   "outputs": [
    {
     "data": {
      "text/plain": [
       "6234"
      ]
     },
     "execution_count": 12,
     "metadata": {},
     "output_type": "execute_result"
    }
   ],
   "source": [
    "max(RamanMoS2.intensity)"
   ]
  },
  {
   "cell_type": "markdown",
   "metadata": {},
   "source": [
    "# PL Spectra"
   ]
  },
  {
   "cell_type": "code",
   "execution_count": 10,
   "metadata": {},
   "outputs": [],
   "source": [
    "pl1 = pd.read_table('pl_mos2.txt')\n",
    "pl2 = pd.read_table('pl_ws2.txt')"
   ]
  },
  {
   "cell_type": "code",
   "execution_count": 14,
   "metadata": {},
   "outputs": [
    {
     "data": {
      "text/html": [
       "<div>\n",
       "<style scoped>\n",
       "    .dataframe tbody tr th:only-of-type {\n",
       "        vertical-align: middle;\n",
       "    }\n",
       "\n",
       "    .dataframe tbody tr th {\n",
       "        vertical-align: top;\n",
       "    }\n",
       "\n",
       "    .dataframe thead th {\n",
       "        text-align: right;\n",
       "    }\n",
       "</style>\n",
       "<table border=\"1\" class=\"dataframe\">\n",
       "  <thead>\n",
       "    <tr style=\"text-align: right;\">\n",
       "      <th></th>\n",
       "      <th>wavelength</th>\n",
       "      <th>intensity</th>\n",
       "    </tr>\n",
       "  </thead>\n",
       "  <tbody>\n",
       "    <tr>\n",
       "      <td>0</td>\n",
       "      <td>496.04590</td>\n",
       "      <td>369</td>\n",
       "    </tr>\n",
       "    <tr>\n",
       "      <td>1</td>\n",
       "      <td>496.37759</td>\n",
       "      <td>353</td>\n",
       "    </tr>\n",
       "    <tr>\n",
       "      <td>2</td>\n",
       "      <td>496.70929</td>\n",
       "      <td>353</td>\n",
       "    </tr>\n",
       "    <tr>\n",
       "      <td>3</td>\n",
       "      <td>497.04089</td>\n",
       "      <td>347</td>\n",
       "    </tr>\n",
       "    <tr>\n",
       "      <td>4</td>\n",
       "      <td>497.37259</td>\n",
       "      <td>317</td>\n",
       "    </tr>\n",
       "    <tr>\n",
       "      <td>...</td>\n",
       "      <td>...</td>\n",
       "      <td>...</td>\n",
       "    </tr>\n",
       "    <tr>\n",
       "      <td>1019</td>\n",
       "      <td>834.40778</td>\n",
       "      <td>212</td>\n",
       "    </tr>\n",
       "    <tr>\n",
       "      <td>1020</td>\n",
       "      <td>834.74011</td>\n",
       "      <td>212</td>\n",
       "    </tr>\n",
       "    <tr>\n",
       "      <td>1021</td>\n",
       "      <td>835.07239</td>\n",
       "      <td>215</td>\n",
       "    </tr>\n",
       "    <tr>\n",
       "      <td>1022</td>\n",
       "      <td>835.40472</td>\n",
       "      <td>212</td>\n",
       "    </tr>\n",
       "    <tr>\n",
       "      <td>1023</td>\n",
       "      <td>835.73694</td>\n",
       "      <td>214</td>\n",
       "    </tr>\n",
       "  </tbody>\n",
       "</table>\n",
       "<p>1024 rows × 2 columns</p>\n",
       "</div>"
      ],
      "text/plain": [
       "      wavelength  intensity\n",
       "0      496.04590        369\n",
       "1      496.37759        353\n",
       "2      496.70929        353\n",
       "3      497.04089        347\n",
       "4      497.37259        317\n",
       "...          ...        ...\n",
       "1019   834.40778        212\n",
       "1020   834.74011        212\n",
       "1021   835.07239        215\n",
       "1022   835.40472        212\n",
       "1023   835.73694        214\n",
       "\n",
       "[1024 rows x 2 columns]"
      ]
     },
     "execution_count": 14,
     "metadata": {},
     "output_type": "execute_result"
    }
   ],
   "source": [
    "pl1"
   ]
  },
  {
   "cell_type": "code",
   "execution_count": 11,
   "metadata": {},
   "outputs": [],
   "source": [
    "pl1['energy'] = 1239.8/pl1['wavelength'] # energy in eV"
   ]
  },
  {
   "cell_type": "code",
   "execution_count": 16,
   "metadata": {},
   "outputs": [
    {
     "data": {
      "text/html": [
       "<div>\n",
       "<style scoped>\n",
       "    .dataframe tbody tr th:only-of-type {\n",
       "        vertical-align: middle;\n",
       "    }\n",
       "\n",
       "    .dataframe tbody tr th {\n",
       "        vertical-align: top;\n",
       "    }\n",
       "\n",
       "    .dataframe thead th {\n",
       "        text-align: right;\n",
       "    }\n",
       "</style>\n",
       "<table border=\"1\" class=\"dataframe\">\n",
       "  <thead>\n",
       "    <tr style=\"text-align: right;\">\n",
       "      <th></th>\n",
       "      <th>wavelength</th>\n",
       "      <th>intensity</th>\n",
       "      <th>energy</th>\n",
       "    </tr>\n",
       "  </thead>\n",
       "  <tbody>\n",
       "    <tr>\n",
       "      <td>0</td>\n",
       "      <td>496.04590</td>\n",
       "      <td>369</td>\n",
       "      <td>2.499365</td>\n",
       "    </tr>\n",
       "    <tr>\n",
       "      <td>1</td>\n",
       "      <td>496.37759</td>\n",
       "      <td>353</td>\n",
       "      <td>2.497695</td>\n",
       "    </tr>\n",
       "    <tr>\n",
       "      <td>2</td>\n",
       "      <td>496.70929</td>\n",
       "      <td>353</td>\n",
       "      <td>2.496027</td>\n",
       "    </tr>\n",
       "    <tr>\n",
       "      <td>3</td>\n",
       "      <td>497.04089</td>\n",
       "      <td>347</td>\n",
       "      <td>2.494362</td>\n",
       "    </tr>\n",
       "    <tr>\n",
       "      <td>4</td>\n",
       "      <td>497.37259</td>\n",
       "      <td>317</td>\n",
       "      <td>2.492699</td>\n",
       "    </tr>\n",
       "    <tr>\n",
       "      <td>...</td>\n",
       "      <td>...</td>\n",
       "      <td>...</td>\n",
       "      <td>...</td>\n",
       "    </tr>\n",
       "    <tr>\n",
       "      <td>1019</td>\n",
       "      <td>834.40778</td>\n",
       "      <td>212</td>\n",
       "      <td>1.485844</td>\n",
       "    </tr>\n",
       "    <tr>\n",
       "      <td>1020</td>\n",
       "      <td>834.74011</td>\n",
       "      <td>212</td>\n",
       "      <td>1.485253</td>\n",
       "    </tr>\n",
       "    <tr>\n",
       "      <td>1021</td>\n",
       "      <td>835.07239</td>\n",
       "      <td>215</td>\n",
       "      <td>1.484662</td>\n",
       "    </tr>\n",
       "    <tr>\n",
       "      <td>1022</td>\n",
       "      <td>835.40472</td>\n",
       "      <td>212</td>\n",
       "      <td>1.484071</td>\n",
       "    </tr>\n",
       "    <tr>\n",
       "      <td>1023</td>\n",
       "      <td>835.73694</td>\n",
       "      <td>214</td>\n",
       "      <td>1.483481</td>\n",
       "    </tr>\n",
       "  </tbody>\n",
       "</table>\n",
       "<p>1024 rows × 3 columns</p>\n",
       "</div>"
      ],
      "text/plain": [
       "      wavelength  intensity    energy\n",
       "0      496.04590        369  2.499365\n",
       "1      496.37759        353  2.497695\n",
       "2      496.70929        353  2.496027\n",
       "3      497.04089        347  2.494362\n",
       "4      497.37259        317  2.492699\n",
       "...          ...        ...       ...\n",
       "1019   834.40778        212  1.485844\n",
       "1020   834.74011        212  1.485253\n",
       "1021   835.07239        215  1.484662\n",
       "1022   835.40472        212  1.484071\n",
       "1023   835.73694        214  1.483481\n",
       "\n",
       "[1024 rows x 3 columns]"
      ]
     },
     "execution_count": 16,
     "metadata": {},
     "output_type": "execute_result"
    }
   ],
   "source": [
    "pl1"
   ]
  },
  {
   "cell_type": "code",
   "execution_count": 12,
   "metadata": {},
   "outputs": [],
   "source": [
    "pl2['energy'] = 1239.8/pl2['wavelength']"
   ]
  },
  {
   "cell_type": "code",
   "execution_count": 18,
   "metadata": {},
   "outputs": [
    {
     "data": {
      "image/png": "[encoded data removed]",
      "text/plain": [
       "<Figure size 432x288 with 2 Axes>"
      ]
     },
     "metadata": {
      "needs_background": "light"
     },
     "output_type": "display_data"
    }
   ],
   "source": [
    "fig2,(ax1, ax2) = plt.subplots(2,1, sharex=True)\n",
    "plt.xlabel('Energia (eV)', **a_font, fontsize=16)\n",
    "ax1.plot(pl1.energy, pl1.intensity, 'b', label='MoS$_2$')\n",
    "ax1.set_ylim(200,700)\n",
    "ax1.set_yticklabels(np.arange(200,800,100), fontsize=12)\n",
    "ax1.legend()\n",
    "ax2.plot(pl2.energy, pl2.intensity, 'r', label='WS$_2$')\n",
    "ax2.legend()\n",
    "ax2.set_xlim(1.5,2.2)\n",
    "ax2.set_ylim(0, 20000)\n",
    "ax2.set_xticks(np.arange(1.5,2.2,0.1))\n",
    "ax2.set_xticklabels([\"1.5\", \"1.6\", \"1.7\", \"1.8\", \"1.9\", \"2.0\", \"2.1\", \"2.2\"], **a_font, fontsize=12)\n",
    "ax2.set_yticklabels(np.arange(0,25000,5000), **a_font, fontsize=12)\n",
    "fig2.text(-0.05,0.55,\"Intensidade (u. a.)\", ha=\"center\", va=\"center\", rotation=90, **a_font, fontsize=16)\n",
    "plt.tight_layout()\n",
    "plt.show()"
   ]
  },
  {
   "cell_type": "code",
   "execution_count": 19,
   "metadata": {},
   "outputs": [],
   "source": [
    "fig2.savefig('PL Both.png', dpi=300, bbox_incehs='tight')"
   ]
  },
  {
   "cell_type": "markdown",
   "metadata": {},
   "source": [
    "# Plot all"
   ]
  },
  {
   "cell_type": "code",
   "execution_count": 13,
   "metadata": {},
   "outputs": [],
   "source": [
    "RamanMoS2['normalized_intens'] = RamanMoS2['intensity']/max(RamanMoS2.intensity)\n",
    "RamanWS2['normalized_intens'] = RamanWS2['intensity']/max(RamanWS2.intensity)\n",
    "pl1['normalized_intens'] = pl1['intensity']/max(pl1.intensity)\n",
    "pl2['normalized_intens'] = pl2['intensity']/max(pl2.intensity)"
   ]
  },
  {
   "cell_type": "code",
   "execution_count": 15,
   "metadata": {},
   "outputs": [
    {
     "data": {
      "image/png": "[encoded data removed]",
      "text/plain": [
       "<Figure size 432x288 with 4 Axes>"
      ]
     },
     "metadata": {
      "needs_background": "light"
     },
     "output_type": "display_data"
    }
   ],
   "source": [
    "fig3, axs = plt.subplots(2,2,sharex='col')\n",
    "axs[0,0].plot(RamanMoS2.raman_shift, RamanMoS2.normalized_intens, 'b', label='MoS$_2$')\n",
    "axs[0,0].set_ylim(0,1.5)\n",
    "axs[0,0].set_yticklabels(np.arange(0,2.0, 0.5), **a_font, fontsize=12)\n",
    "axs[0,0].text(305,1.3,\"(a)\", **a_font, fontsize=14)\n",
    "axs[0,0].legend(loc=1)\n",
    "axs[0,1].plot(pl1.energy, pl1.normalized_intens, 'b', label='MoS$_2$')\n",
    "axs[0,1].set_ylim(0,1.5)\n",
    "axs[0,1].set_yticks(np.arange(0,2.0,0.5))\n",
    "axs[0,1].set_yticklabels(np.arange(0,2.0,0.5), fontsize=12)\n",
    "axs[0,1].text(1.525,1.3,\"(b)\", **a_font, fontsize=14)\n",
    "axs[0,1].legend(loc=1)\n",
    "axs[1,0].plot(RamanWS2.raman_shift, RamanWS2.normalized_intens, 'r', label='WS$_2$')\n",
    "axs[1,0].text(305,1.3,\"(c)\", **a_font, fontsize=14)\n",
    "axs[1,0].legend(loc=1)\n",
    "axs[1,0].set_xlim(300,450)\n",
    "axs[1,0].set_xticklabels(np.arange(300,460,50), **a_font, fontsize=12)\n",
    "axs[1,0].set_ylim(0,1.5)\n",
    "axs[1,0].set_yticklabels(np.arange(0,2.0,0.5), **a_font, fontsize=12)\n",
    "axs[1,0].set_xlabel('Deslocamento Raman (cm$^{-1}$)', fontsize=14)\n",
    "axs[1,1].plot(pl2.energy, pl2.normalized_intens, 'r', label='WS$_2$')\n",
    "axs[1,1].legend(loc=1)\n",
    "axs[1,1].set_xlim(1.5,2.3)\n",
    "axs[1,1].set_ylim(0, 1.5)\n",
    "axs[1,1].set_xticks(np.arange(1.5,2.4,0.2))\n",
    "axs[1,1].set_xticklabels([\"1.5\", \"1.7\", \"1.9\", \"2.1\", \"2.3\"], **a_font, fontsize=12)\n",
    "axs[1,1].set_yticks(np.arange(0,2.0,0.5))\n",
    "axs[1,1].set_yticklabels(np.arange(0,2.0,0.5), **a_font, fontsize=12)\n",
    "axs[1,1].set_xlabel('Energia (eV)', **a_font, fontsize=14)\n",
    "axs[1,1].text(1.525,1.3,\"(d)\", **a_font, fontsize=14)\n",
    "fig3.text(-0.025,0.55,\"Intensidade normalizada\", ha=\"center\", va=\"center\", rotation=90, **a_font, fontsize=16)\n",
    "fig3.align_labels()\n",
    "plt.tight_layout()\n",
    "plt.show()"
   ]
  },
  {
   "cell_type": "code",
   "execution_count": 27,
   "metadata": {},
   "outputs": [],
   "source": [
    "fig3.savefig('Raman and PL for both.png',dpi=300,bbox_inches='tight')"
   ]
  },
  {
   "cell_type": "code",
   "execution_count": null,
   "metadata": {},
   "outputs": [],
   "source": []
  },
  {
   "cell_type": "code",
   "execution_count": null,
   "metadata": {},
   "outputs": [],
   "source": []
  }
 ],
 "metadata": {
  "kernelspec": {
   "display_name": "Python 3",
   "language": "python",
   "name": "python3"
  },
  "language_info": {
   "codemirror_mode": {
    "name": "ipython",
    "version": 3
   },
   "file_extension": ".py",
   "mimetype": "text/x-python",
   "name": "python",
   "nbconvert_exporter": "python",
   "pygments_lexer": "ipython3",
   "version": "3.8.5"
  }
 },
 "nbformat": 4,
 "nbformat_minor": 2
}
